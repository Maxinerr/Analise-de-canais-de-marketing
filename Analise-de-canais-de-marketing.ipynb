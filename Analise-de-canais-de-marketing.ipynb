{
 "cells": [
  {
   "cell_type": "code",
   "execution_count": 5,
   "metadata": {},
   "outputs": [
    {
     "name": "stdout",
     "output_type": "stream",
     "text": [
      "Taxa de conversão por canal:\n",
      "- E-mail: 8.00%\n",
      "- Redes Sociais: 6.00%\n",
      "- Anúncios Pagos: 6.00%\n",
      "- SEO: 4.00%\n",
      "- YouTube Ads: 5.00%\n",
      "- Google Ads: 6.36%\n",
      "- TikTok Ads: 5.00%\n",
      "- Influenciadores: 3.00%\n",
      "- Blog: 4.00%\n",
      "- LinkedIn Ads: 5.00%\n",
      "- WhatsApp Marketing: 7.00%\n",
      "- SMS Marketing: 6.00%\n",
      "- Eventos: 12.50%\n",
      "\n",
      "Canal com maior taxa de conversão: Eventos (12.50%)\n",
      "Canal com menor taxa de conversão: Influenciadores (3.00%)\n"
     ]
    }
   ],
   "source": [
    "#Crie células abaixo para fazer o exercício, não se esqueça das boas práticas de código, e comente o que fizer!!!!!!\n",
    "# Dados fornecidos\n",
    "dados_marketing = {\n",
    "    \"E-mail\": {\"visitas\": 5000, \"conversoes\": 400},\n",
    "    \"Redes Sociais\": {\"visitas\": 8000, \"conversoes\": 480},\n",
    "    \"Anúncios Pagos\": {\"visitas\": 12000, \"conversoes\": 720},\n",
    "    \"SEO\": {\"visitas\": 15000, \"conversoes\": 600},\n",
    "    \"YouTube Ads\": {\"visitas\": 9000, \"conversoes\": 450},\n",
    "    \"Google Ads\": {\"visitas\": 11000, \"conversoes\": 700},\n",
    "    \"TikTok Ads\": {\"visitas\": 7000, \"conversoes\": 350},\n",
    "    \"Influenciadores\": {\"visitas\": 10000, \"conversoes\": 300},\n",
    "    \"Blog\": {\"visitas\": 14000, \"conversoes\": 560},\n",
    "    \"LinkedIn Ads\": {\"visitas\": 6000, \"conversoes\": 300},\n",
    "    \"WhatsApp Marketing\": {\"visitas\": 4000, \"conversoes\": 280},\n",
    "    \"SMS Marketing\": {\"visitas\": 3000, \"conversoes\": 180},\n",
    "    \"Eventos\": {\"visitas\": 2000, \"conversoes\": 250},\n",
    "}\n",
    "# Dicionário para armazenar as taxas de conversão\n",
    "taxas_conversao = {}\n",
    "\n",
    "# Calcula a taxa de conversão para cada canal\n",
    "for canal, valores in dados_marketing.items():\n",
    "    visitas = valores[\"visitas\"]\n",
    "    conversoes = valores[\"conversoes\"]\n",
    "    taxa = (conversoes / visitas) * 100  # Fórmula de taxa de conversão\n",
    "    taxas_conversao[canal] = round(taxa, 2)  # Armazena com 2 casas decimais\n",
    "\n",
    "# Identifica os canais com maior e menor taxa de conversão\n",
    "canal_maior_taxa = max(taxas_conversao, key=taxas_conversao.get)\n",
    "canal_menor_taxa = min(taxas_conversao, key=taxas_conversao.get) \n",
    "\n",
    "# Exibe os resultados\n",
    "print(\"Taxa de conversão por canal:\")\n",
    "for canal, taxa in taxas_conversao.items():\n",
    "    print(f\"- {canal}: {taxa:.2f}%\")\n",
    "\n",
    "print(f\"\\nCanal com maior taxa de conversão: {canal_maior_taxa} ({taxas_conversao[canal_maior_taxa]:.2f}%)\")\n",
    "print(f\"Canal com menor taxa de conversão: {canal_menor_taxa} ({taxas_conversao[canal_menor_taxa]:.2f}%)\")\n",
    "\n"
   ]
  },
  {
   "cell_type": "code",
   "execution_count": 7,
   "metadata": {},
   "outputs": [
    {
     "name": "stdout",
     "output_type": "stream",
     "text": [
      "\n",
      "Classificação dos Canais:\n",
      "- E-mail: Bom\n",
      "- Redes Sociais: Bom\n",
      "- Anúncios Pagos: Bom\n",
      "- SEO: Precisa Melhorar\n",
      "- YouTube Ads: Bom\n",
      "- Google Ads: Bom\n",
      "- TikTok Ads: Bom\n",
      "- Influenciadores: Precisa Melhorar\n",
      "- Blog: Precisa Melhorar\n",
      "- LinkedIn Ads: Bom\n",
      "- WhatsApp Marketing: Bom\n",
      "- SMS Marketing: Bom\n",
      "- Eventos: Excelente\n"
     ]
    }
   ],
   "source": [
    "#Crie células abaixo para fazer o exercício, não se esqueça das boas práticas de código, e comente o que fizer!!!!!!\n",
    "\n",
    "# Classificação dos canais\n",
    "classificacao_canais = {}\n",
    "\n",
    "for canal, taxa in taxas_conversao.items():\n",
    "    if taxa > 10:\n",
    "        classificacao_canais[canal] = \"Excelente\"\n",
    "    elif 5 <= taxa <= 10:\n",
    "        classificacao_canais[canal] = \"Bom\"\n",
    "    else:\n",
    "        classificacao_canais[canal] = \"Precisa Melhorar\"\n",
    "\n",
    "# Exibe a classificação dos canais\n",
    "print(\"\\nClassificação dos Canais:\")\n",
    "for canal, classificacao in classificacao_canais.items():\n",
    "    print(f\"- {canal}: {classificacao}\")"
   ]
  },
  {
   "cell_type": "code",
   "execution_count": 8,
   "metadata": {},
   "outputs": [
    {
     "name": "stdout",
     "output_type": "stream",
     "text": [
      "\n",
      "Resumo Final:\n",
      "- Excelente: 1\n",
      "- Bom: 9\n",
      "- Precisa Melhorar: 3\n"
     ]
    }
   ],
   "source": [
    "#Crie células abaixo para fazer o exercício, não se esqueça das boas práticas de código, e comente o que fizer!!!!!!\n",
    "# Contagem de canais por categoria\n",
    "resumo_categorias = {\"Excelente\": 0, \"Bom\": 0, \"Precisa Melhorar\": 0}\n",
    "\n",
    "# Conta quantos canais pertencem a cada categoria\n",
    "for classificacao in classificacao_canais.values():\n",
    "    resumo_categorias[classificacao] += 1\n",
    "\n",
    "# Exibe o resumo final\n",
    "print(\"\\nResumo Final:\")\n",
    "for categoria, quantidade in resumo_categorias.items():\n",
    "    print(f\"- {categoria}: {quantidade}\")"
   ]
  }
 ],
 "metadata": {
  "kernelspec": {
   "display_name": "base",
   "language": "python",
   "name": "python3"
  },
  "language_info": {
   "codemirror_mode": {
    "name": "ipython",
    "version": 3
   },
   "file_extension": ".py",
   "mimetype": "text/x-python",
   "name": "python",
   "nbconvert_exporter": "python",
   "pygments_lexer": "ipython3",
   "version": "3.12.7"
  }
 },
 "nbformat": 4,
 "nbformat_minor": 2
}
